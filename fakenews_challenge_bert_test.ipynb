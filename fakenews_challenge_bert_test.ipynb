{
  "cells": [
    {
      "cell_type": "markdown",
      "metadata": {
        "id": "HvGmIvB-xEDq"
      },
      "source": [
        "# NLP fake news challenge\n",
        "## Giovanni Spadaro"
      ]
    },
    {
      "cell_type": "code",
      "execution_count": 2,
      "metadata": {
        "colab": {
          "base_uri": "https://localhost:8080/"
        },
        "id": "qu10J8nYR41Y",
        "outputId": "75959a96-f997-4848-d847-7fc5ff121347"
      },
      "outputs": [
        {
          "name": "stdout",
          "output_type": "stream",
          "text": [
            "Drive already mounted at /content/drive; to attempt to forcibly remount, call drive.mount(\"/content/drive\", force_remount=True).\n"
          ]
        }
      ],
      "source": [
        "from google.colab import drive\n",
        "drive.mount('/content/drive')"
      ]
    },
    {
      "cell_type": "code",
      "execution_count": 3,
      "metadata": {
        "colab": {
          "base_uri": "https://localhost:8080/"
        },
        "id": "HzCSos0fU79u",
        "outputId": "b76d8092-207f-4f51-bcce-33795514e2e4"
      },
      "outputs": [
        {
          "name": "stderr",
          "output_type": "stream",
          "text": [
            "[nltk_data] Downloading collection 'book'\n",
            "[nltk_data]    | \n",
            "[nltk_data]    | Downloading package abc to /root/nltk_data...\n",
            "[nltk_data]    |   Package abc is already up-to-date!\n",
            "[nltk_data]    | Downloading package brown to /root/nltk_data...\n",
            "[nltk_data]    |   Package brown is already up-to-date!\n",
            "[nltk_data]    | Downloading package chat80 to /root/nltk_data...\n",
            "[nltk_data]    |   Package chat80 is already up-to-date!\n",
            "[nltk_data]    | Downloading package cmudict to /root/nltk_data...\n",
            "[nltk_data]    |   Package cmudict is already up-to-date!\n",
            "[nltk_data]    | Downloading package conll2000 to /root/nltk_data...\n",
            "[nltk_data]    |   Package conll2000 is already up-to-date!\n",
            "[nltk_data]    | Downloading package conll2002 to /root/nltk_data...\n",
            "[nltk_data]    |   Package conll2002 is already up-to-date!\n",
            "[nltk_data]    | Downloading package dependency_treebank to\n",
            "[nltk_data]    |     /root/nltk_data...\n",
            "[nltk_data]    |   Package dependency_treebank is already up-to-date!\n",
            "[nltk_data]    | Downloading package genesis to /root/nltk_data...\n",
            "[nltk_data]    |   Package genesis is already up-to-date!\n",
            "[nltk_data]    | Downloading package gutenberg to /root/nltk_data...\n",
            "[nltk_data]    |   Package gutenberg is already up-to-date!\n",
            "[nltk_data]    | Downloading package ieer to /root/nltk_data...\n",
            "[nltk_data]    |   Package ieer is already up-to-date!\n",
            "[nltk_data]    | Downloading package inaugural to /root/nltk_data...\n",
            "[nltk_data]    |   Package inaugural is already up-to-date!\n",
            "[nltk_data]    | Downloading package movie_reviews to\n",
            "[nltk_data]    |     /root/nltk_data...\n",
            "[nltk_data]    |   Package movie_reviews is already up-to-date!\n",
            "[nltk_data]    | Downloading package nps_chat to /root/nltk_data...\n",
            "[nltk_data]    |   Package nps_chat is already up-to-date!\n",
            "[nltk_data]    | Downloading package names to /root/nltk_data...\n",
            "[nltk_data]    |   Package names is already up-to-date!\n",
            "[nltk_data]    | Downloading package ppattach to /root/nltk_data...\n",
            "[nltk_data]    |   Package ppattach is already up-to-date!\n",
            "[nltk_data]    | Downloading package reuters to /root/nltk_data...\n",
            "[nltk_data]    |   Package reuters is already up-to-date!\n",
            "[nltk_data]    | Downloading package senseval to /root/nltk_data...\n",
            "[nltk_data]    |   Package senseval is already up-to-date!\n",
            "[nltk_data]    | Downloading package state_union to /root/nltk_data...\n",
            "[nltk_data]    |   Package state_union is already up-to-date!\n",
            "[nltk_data]    | Downloading package stopwords to /root/nltk_data...\n",
            "[nltk_data]    |   Package stopwords is already up-to-date!\n",
            "[nltk_data]    | Downloading package swadesh to /root/nltk_data...\n",
            "[nltk_data]    |   Package swadesh is already up-to-date!\n",
            "[nltk_data]    | Downloading package timit to /root/nltk_data...\n",
            "[nltk_data]    |   Package timit is already up-to-date!\n",
            "[nltk_data]    | Downloading package treebank to /root/nltk_data...\n",
            "[nltk_data]    |   Package treebank is already up-to-date!\n",
            "[nltk_data]    | Downloading package toolbox to /root/nltk_data...\n",
            "[nltk_data]    |   Package toolbox is already up-to-date!\n",
            "[nltk_data]    | Downloading package udhr to /root/nltk_data...\n",
            "[nltk_data]    |   Package udhr is already up-to-date!\n",
            "[nltk_data]    | Downloading package udhr2 to /root/nltk_data...\n",
            "[nltk_data]    |   Package udhr2 is already up-to-date!\n",
            "[nltk_data]    | Downloading package unicode_samples to\n",
            "[nltk_data]    |     /root/nltk_data...\n",
            "[nltk_data]    |   Package unicode_samples is already up-to-date!\n",
            "[nltk_data]    | Downloading package webtext to /root/nltk_data...\n",
            "[nltk_data]    |   Package webtext is already up-to-date!\n",
            "[nltk_data]    | Downloading package wordnet to /root/nltk_data...\n",
            "[nltk_data]    |   Package wordnet is already up-to-date!\n",
            "[nltk_data]    | Downloading package wordnet_ic to /root/nltk_data...\n",
            "[nltk_data]    |   Package wordnet_ic is already up-to-date!\n",
            "[nltk_data]    | Downloading package words to /root/nltk_data...\n",
            "[nltk_data]    |   Package words is already up-to-date!\n",
            "[nltk_data]    | Downloading package maxent_treebank_pos_tagger to\n",
            "[nltk_data]    |     /root/nltk_data...\n",
            "[nltk_data]    |   Package maxent_treebank_pos_tagger is already up-\n",
            "[nltk_data]    |       to-date!\n",
            "[nltk_data]    | Downloading package maxent_ne_chunker to\n",
            "[nltk_data]    |     /root/nltk_data...\n",
            "[nltk_data]    |   Package maxent_ne_chunker is already up-to-date!\n",
            "[nltk_data]    | Downloading package universal_tagset to\n",
            "[nltk_data]    |     /root/nltk_data...\n",
            "[nltk_data]    |   Package universal_tagset is already up-to-date!\n",
            "[nltk_data]    | Downloading package punkt to /root/nltk_data...\n",
            "[nltk_data]    |   Package punkt is already up-to-date!\n",
            "[nltk_data]    | Downloading package book_grammars to\n",
            "[nltk_data]    |     /root/nltk_data...\n",
            "[nltk_data]    |   Package book_grammars is already up-to-date!\n",
            "[nltk_data]    | Downloading package city_database to\n",
            "[nltk_data]    |     /root/nltk_data...\n",
            "[nltk_data]    |   Package city_database is already up-to-date!\n",
            "[nltk_data]    | Downloading package tagsets to /root/nltk_data...\n",
            "[nltk_data]    |   Package tagsets is already up-to-date!\n",
            "[nltk_data]    | Downloading package panlex_swadesh to\n",
            "[nltk_data]    |     /root/nltk_data...\n",
            "[nltk_data]    |   Package panlex_swadesh is already up-to-date!\n",
            "[nltk_data]    | Downloading package averaged_perceptron_tagger to\n",
            "[nltk_data]    |     /root/nltk_data...\n",
            "[nltk_data]    |   Package averaged_perceptron_tagger is already up-\n",
            "[nltk_data]    |       to-date!\n",
            "[nltk_data]    | \n",
            "[nltk_data]  Done downloading collection book\n"
          ]
        }
      ],
      "source": [
        "import pytz, datetime\n",
        "import os\n",
        "import re\n",
        "import random\n",
        "import pandas as pd\n",
        "import numpy as np\n",
        "from sklearn import metrics\n",
        "from tqdm import tqdm\n",
        "import nltk\n",
        "from nltk.corpus import stopwords\n",
        "from nltk.tokenize import word_tokenize\n",
        "nltk.download(\"book\")\n",
        "import torch\n",
        "import torch.nn as nn\n",
        "from torch.utils.data import DataLoader\n",
        "from torch.optim import AdamW\n",
        "from datasets import load_dataset\n",
        "import transformers\n",
        "from transformers import get_linear_schedule_with_warmup #, AdamW"
      ]
    },
    {
      "cell_type": "code",
      "execution_count": 4,
      "metadata": {
        "colab": {
          "base_uri": "https://localhost:8080/"
        },
        "id": "IIrI2J9kqFA1",
        "outputId": "4135cacd-824e-43bf-aaa3-f87f6667d913"
      },
      "outputs": [
        {
          "name": "stdout",
          "output_type": "stream",
          "text": [
            "Random seed set as 42\n"
          ]
        }
      ],
      "source": [
        "seed = 42\n",
        "\n",
        "# https://wandb.ai/sauravmaheshkar/RSNA-MICCAI/reports/How-to-Set-Random-Seeds-in-PyTorch-and-Tensorflow--VmlldzoxMDA2MDQy\n",
        "def set_seed(seed: int = seed) -> None:\n",
        "    np.random.seed(seed)\n",
        "    random.seed(seed)\n",
        "    torch.manual_seed(seed)\n",
        "    torch.cuda.manual_seed(seed)\n",
        "    # When running on the CuDNN backend, two further options must be set\n",
        "    torch.backends.cudnn.deterministic = True\n",
        "    torch.backends.cudnn.benchmark = False\n",
        "    # Set a fixed value for the hash seed\n",
        "    os.environ[\"PYTHONHASHSEED\"] = str(seed)\n",
        "    print(f\"Random seed set as {seed}\")\n",
        "\n",
        "set_seed()"
      ]
    },
    {
      "cell_type": "code",
      "execution_count": 20,
      "metadata": {
        "colab": {
          "base_uri": "https://localhost:8080/"
        },
        "id": "NuKSbk3aEJ05",
        "outputId": "42138ebd-e4ff-4a57-8e0d-fdb0ffdd80a4"
      },
      "outputs": [
        {
          "name": "stdout",
          "output_type": "stream",
          "text": [
            "Running on cuda:0\n"
          ]
        }
      ],
      "source": [
        "mapping = {\n",
        "    0: 'true',\n",
        "    1: 'false'\n",
        "}\n",
        "\n",
        "config = {\n",
        "    'learning_rate': 5e-4,\n",
        "    'batch_size': 16,\n",
        "    'epochs': 5,\n",
        "    'dropout': 0.45,\n",
        "    'tokenizer_max_len': 128\n",
        "}\n",
        "\n",
        "device = torch.device(0 if torch.cuda.is_available() else 'cpu')\n",
        "print(\"Running on \" + str(device))\n",
        "\n",
        "\n",
        "#model_name = \"bert-base-uncased\"\n",
        "#model_name = \"microsoft/deberta-v2-xlarge-mnli\" # Doesn't fit in memory\n",
        "model_name = \"roberta-base\"\n",
        "#model_name = \"distilbert-base-uncased\"\n",
        "\n",
        "\n",
        "GOLD_LABEL = 'label'\n",
        "TEXT = 'News'\n",
        "path = \"/content/drive/MyDrive/Challenge NLP/models/\" + model_name.replace(\"/\", \"-\")\n",
        "n_labels = len(mapping)"
      ]
    },
    {
      "cell_type": "code",
      "execution_count": 21,
      "metadata": {
        "colab": {
          "base_uri": "https://localhost:8080/"
        },
        "id": "X8ZBny6bkBaW",
        "outputId": "f2ea1284-4d41-48c1-e38a-e75319140fae"
      },
      "outputs": [
        {
          "name": "stderr",
          "output_type": "stream",
          "text": [
            "Some weights of RobertaModel were not initialized from the model checkpoint at roberta-base and are newly initialized: ['roberta.pooler.dense.weight', 'roberta.pooler.dense.bias']\n",
            "You should probably TRAIN this model on a down-stream task to be able to use it for predictions and inference.\n"
          ]
        }
      ],
      "source": [
        "tokenizer = transformers.AutoTokenizer.from_pretrained(model_name, do_lower_case=True)\n",
        "bert_model = transformers.AutoModel.from_pretrained(model_name)"
      ]
    },
    {
      "cell_type": "markdown",
      "metadata": {
        "id": "Da-PsycaVJYq"
      },
      "source": [
        "# Testing"
      ]
    },
    {
      "cell_type": "code",
      "execution_count": 22,
      "metadata": {
        "id": "lbqqqWp2eW5j"
      },
      "outputs": [],
      "source": [
        "def preprocessing(df):\n",
        "\n",
        "    # Remove half-true\n",
        "    #df = df[df['label'].isin([0,2,3,4,5])]\n",
        "\n",
        "    # Remove half-true, mostly-true and barely-true\n",
        "    df = df[df['label'].isin([0,3,5])]\n",
        "\n",
        "\n",
        "    # Labels mapping:\n",
        "    # barely-true -> false\n",
        "    # pants-fire -> true\n",
        "    # mostly-true -> true\n",
        "    # half-true -> true\n",
        "    df['label'] = df['label'].map({5: 3, 4: 0, 2: 3, 1: 3})\n",
        "\n",
        "\n",
        "    # Text cleaning\n",
        "    stop_words = set(stopwords.words('english'))\n",
        "\n",
        "    for index, row in df.iterrows():\n",
        "        # To lower case\n",
        "        df.loc[index, \"statement\"] = df.loc[index, \"statement\"].lower()\n",
        "\n",
        "        # Remove punctuation\n",
        "        df.loc[index, \"statement\"] = re.sub(r'[^\\w\\s]', '', df.loc[index, \"statement\"])\n",
        "\n",
        "        # Remove stopwords\n",
        "        word_tokens = word_tokenize(df.loc[index, \"statement\"])\n",
        "        filtered_sentence = [w for w in word_tokens if w not in stop_words]\n",
        "        df.loc[index, \"statement\"] = ' '.join(filtered_sentence)\n",
        "\n",
        "        # Remove number assuming a fake or true news is not usually determined by the numbers presented\n",
        "        df.loc[index, \"statement\"] = re.sub(\"\\d+\", \" \", df.loc[index, \"statement\"])\n",
        "\n",
        "        # Remove extra spaces\n",
        "        df.loc[index, \"statement\"] = re.sub(\"\\s+\", \" \", df.loc[index, \"statement\"])\n",
        "\n",
        "\n",
        "\n",
        "    df['label'] = ['true' if ele == 3 else 'false' for ele in df['label']]\n",
        "    return df.dropna().reset_index()\n"
      ]
    },
    {
      "cell_type": "code",
      "execution_count": 38,
      "metadata": {
        "id": "9ReAk6lMeJUT"
      },
      "outputs": [],
      "source": [
        "def mapping_dataset(dataset, mapping):\n",
        "    for index,row in dataset.iterrows():\n",
        "        number_label = [k for label in row[GOLD_LABEL].split(',') for k,v in mapping.items() if label.strip() == v]\n",
        "        dataset.loc[index, GOLD_LABEL] = str(number_label)\n",
        "\n",
        "    return dataset\n",
        "\n",
        "def one_hot_encoder(df):\n",
        "    one_hot_encoding = []\n",
        "    for i in tqdm(range(len(df)), desc='Loading:',disable=True):\n",
        "        temp = [0]*n_labels\n",
        "        label_indices = list(df.iloc[i][GOLD_LABEL][1:-1].split(', '))\n",
        "        for index in label_indices:\n",
        "            temp[int(index)] = 1\n",
        "        one_hot_encoding.append(temp)\n",
        "\n",
        "    return pd.DataFrame(one_hot_encoding)"
      ]
    },
    {
      "cell_type": "code",
      "execution_count": 55,
      "metadata": {
        "id": "BR0YCHhReEhx"
      },
      "outputs": [],
      "source": [
        "class LiarDataset:\n",
        "    def __init__(self, texts, tokenizer, max_len):\n",
        "        self.texts = texts\n",
        "        #self.labels = labels\n",
        "        self.tokenizer = tokenizer\n",
        "        self.max_len = max_len\n",
        "\n",
        "    def __len__(self):\n",
        "        return len(self.texts)\n",
        "\n",
        "    def __getitem__(self, index):\n",
        "        text = self.texts[index]\n",
        "        #label = self.labels[index]\n",
        "\n",
        "        inputs = self.tokenizer.__call__(text,\n",
        "                                         None,\n",
        "                                         add_special_tokens=True,\n",
        "                                         max_length=self.max_len,\n",
        "                                         padding=\"max_length\",\n",
        "                                         truncation=True,\n",
        "                                         )\n",
        "        ids = inputs[\"input_ids\"]\n",
        "        mask = inputs[\"attention_mask\"]\n",
        "\n",
        "        return {\n",
        "            \"ids\": torch.tensor(ids, dtype=torch.long),\n",
        "            \"mask\": torch.tensor(mask, dtype=torch.long)#,\n",
        "            #\"labels\": torch.tensor(label, dtype=torch.long)\n",
        "        }"
      ]
    },
    {
      "cell_type": "code",
      "execution_count": 64,
      "metadata": {
        "id": "gnmnIjO1gfpT"
      },
      "outputs": [],
      "source": [
        "class Classifier(nn.Module):\n",
        "    def __init__(self, n_classes, do_prob, bert_model):\n",
        "        super(Classifier, self).__init__()\n",
        "        self.bert = bert_model\n",
        "        self.dropout = nn.Dropout(do_prob)\n",
        "        self.out = nn.Linear(768, n_classes) # bert-base-uncased, roberta, distilbert\n",
        "        #self.out = nn.Linear(1536, config[\"batch_size\"]*config[\"tokenizer_max_len\"]) # microsoft/deberta-v2-xlarge-mnli\n",
        "\n",
        "\n",
        "    def forward(self, ids, mask):\n",
        "        output_1 = self.bert(ids, attention_mask=mask)[\"pooler_output\"] # bert-base-uncased, roberta\n",
        "        #output_1 = self.bert(ids, attention_mask=mask)[\"last_hidden_state\"] # microsoft/deberta-v2-xlarge-mnli, distilbert\n",
        "        output_2 = self.dropout(output_1)\n",
        "        output = self.out(output_2)\n",
        "        return output"
      ]
    },
    {
      "cell_type": "code",
      "execution_count": 65,
      "metadata": {
        "id": "BNa5fpsMX_TA"
      },
      "outputs": [],
      "source": [
        "def build_test_dataset(tokenizer_max_len, test):\n",
        "    return LiarDataset(list(test[TEXT]), tokenizer, tokenizer_max_len)\n",
        "\n",
        "def build_test_dataloader(test_dataset, batch_size):\n",
        "    return DataLoader(test_dataset, batch_size=batch_size, shuffle=True, num_workers=2)\n",
        "\n",
        "def log_metrics(preds, labels):\n",
        "    preds = torch.stack(preds)\n",
        "    preds = preds.cpu().detach().numpy()\n",
        "    labels = torch.stack(labels)\n",
        "    labels = labels.cpu().detach().numpy()\n",
        "\n",
        "    labels = labels.argmax(axis=1)\n",
        "    pred_f1 = preds.argmax(axis = 1)\n",
        "\n",
        "    return {\"precision\": metrics.precision_score(labels, pred_f1),\n",
        "            \"recall\": metrics.recall_score(labels, pred_f1),\n",
        "            \"f1\": metrics.f1_score(labels, pred_f1)}"
      ]
    },
    {
      "cell_type": "code",
      "execution_count": 70,
      "metadata": {
        "id": "x6mfHPPTifvY"
      },
      "outputs": [],
      "source": [
        "def eval_fn(data_loader, model, device):\n",
        "    model.eval()\n",
        "    fin_targets = []\n",
        "    fin_outputs = []\n",
        "    with torch.no_grad():\n",
        "        for bi, d in tqdm(enumerate(data_loader)):\n",
        "            ids = d[\"ids\"].to(device, dtype=torch.long)\n",
        "            mask = d[\"mask\"].to(device, dtype=torch.long)\n",
        "            #targets = d[\"labels\"].to(device, dtype=torch.long)\n",
        "\n",
        "            outputs = model(ids=ids, mask=mask)\n",
        "            #fin_targets.extend(targets)\n",
        "            fin_outputs.extend(torch.sigmoid(outputs))\n",
        "    return fin_outputs#, fin_targets"
      ]
    },
    {
      "cell_type": "markdown",
      "metadata": {
        "id": "ZVS95lqefv5W"
      },
      "source": [
        "## Data loading"
      ]
    },
    {
      "cell_type": "code",
      "execution_count": 71,
      "metadata": {
        "id": "yTDRJSf5ftd4"
      },
      "outputs": [],
      "source": [
        "#dataset = load_dataset(\"liar\")\n",
        "#test_data = dataset[\"test\"]\n",
        "#test = preprocessing(pd.DataFrame(data=test_data))\n",
        "\n",
        "data_path = \"/content/drive/MyDrive/Challenge NLP/data/news test set.tsv\"\n",
        "\n",
        "test = pd.read_csv(data_path, sep=\"\\t\")\n"
      ]
    },
    {
      "cell_type": "code",
      "execution_count": 72,
      "metadata": {
        "id": "SNIFaYo_io-v"
      },
      "outputs": [],
      "source": [
        "test_dataset = build_test_dataset(config['tokenizer_max_len'], test)\n",
        "test_dataloader = build_test_dataloader(test_dataset, config['batch_size'])\n"
      ]
    },
    {
      "cell_type": "markdown",
      "metadata": {
        "id": "DzETBOb_gEPK"
      },
      "source": [
        "## Model load and prediction"
      ]
    },
    {
      "cell_type": "code",
      "execution_count": 78,
      "metadata": {
        "colab": {
          "base_uri": "https://localhost:8080/"
        },
        "id": "5PpwjAMhX_N0",
        "outputId": "d4b32474-d6f9-480c-cde8-785b4d640183"
      },
      "outputs": [
        {
          "name": "stdout",
          "output_type": "stream",
          "text": [
            "cuda:0\n"
          ]
        },
        {
          "name": "stderr",
          "output_type": "stream",
          "text": [
            "1it [00:00,  6.68it/s]"
          ]
        },
        {
          "name": "stdout",
          "output_type": "stream",
          "text": [
            "[array([0.17982668, 0.81665355], dtype=float32), array([0.17982663, 0.81665355], dtype=float32), array([0.17982666, 0.81665355], dtype=float32), array([0.17982663, 0.81665355], dtype=float32), array([0.17982666, 0.81665355], dtype=float32), array([0.17982666, 0.81665355], dtype=float32), array([0.17982666, 0.81665355], dtype=float32), array([0.17982666, 0.81665355], dtype=float32), array([0.17982666, 0.81665355], dtype=float32), array([0.17982666, 0.81665355], dtype=float32)]\n"
          ]
        },
        {
          "name": "stderr",
          "output_type": "stream",
          "text": [
            "\n"
          ]
        }
      ],
      "source": [
        "model_path = \"/content/drive/MyDrive/Challenge NLP/models/roberta-base-epoch_4-lr_0.0005-batch_34-drop_0.45-maxlen_128-f1_0.88163-2024-01-15_21-56-05.pt\"\n",
        "\n",
        "print(device)\n",
        "if device == \"cpu\":\n",
        "    model = torch.load(model_path)\n",
        "else:\n",
        "    model = Classifier(n_labels, config['dropout'], bert_model=bert_model)\n",
        "    model.load_state_dict(torch.load(model_path))\n",
        "    model.to(device)\n",
        "\n",
        "\n",
        "preds = eval_fn(test_dataloader, model, device)\n",
        "preds = [el.cpu().detach().numpy() for el in preds]\n",
        "\n",
        "preds_path = \"/content/drive/MyDrive/Challenge NLP/data/final_preds.txt\"\n",
        "\n",
        "with open(preds_path, \"w+\") as f:\n",
        "    for el in preds:\n",
        "        if el[0] > el[1]:\n",
        "            f.write(\"Non-fake\")\n",
        "        else:\n",
        "            f.write(\"Fake\")\n",
        "\n",
        "        f.write(\"\\n\")\n",
        "\n",
        "print(preds)"
      ]
    },
    {
      "cell_type": "code",
      "execution_count": 74,
      "metadata": {
        "id": "NnjZZ5cQVOyN"
      },
      "outputs": [],
      "source": []
    }
  ],
  "metadata": {
    "accelerator": "GPU",
    "colab": {
      "provenance": []
    },
    "kernelspec": {
      "display_name": "Python 3",
      "name": "python3"
    },
    "language_info": {
      "name": "python"
    }
  },
  "nbformat": 4,
  "nbformat_minor": 0
}
